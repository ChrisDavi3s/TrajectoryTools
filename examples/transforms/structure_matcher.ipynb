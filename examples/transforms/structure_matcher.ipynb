{
 "cells": [
  {
   "cell_type": "code",
   "execution_count": 1,
   "metadata": {},
   "outputs": [
    {
     "name": "stdout",
     "output_type": "stream",
     "text": [
      "Original rotation matrix: [[ 6.123234e-17 -1.000000e+00  0.000000e+00]\n",
      " [ 1.000000e+00  6.123234e-17  0.000000e+00]\n",
      " [ 0.000000e+00  0.000000e+00  1.000000e+00]]\n",
      "Alignment rotation matrix: [[ 0.00000000e+00  1.00000000e+00  9.06304510e-18]\n",
      " [-1.00000000e+00  2.22044605e-16 -9.06304510e-18]\n",
      " [-9.06304510e-18 -9.06304510e-18  1.00000000e+00]]\n",
      "RMSE after alignment: 6.08422073752493e-16\n"
     ]
    }
   ],
   "source": [
    "from pymatgen.core.operations import SymmOp\n",
    "from pymatgen.core.structure import Lattice, Structure\n",
    "from trajectory_tools.transforms import SameStructureMatcher\n",
    "\n",
    "# Create a simple cubic structure\n",
    "lattice = Lattice.cubic(3.5)\n",
    "species = [\"C\"]\n",
    "coords = [[0, 0, 0]]\n",
    "original_structure = Structure(lattice, species, coords)\n",
    "\n",
    "# Expand the structure into a supercell\n",
    "original_structure.make_supercell([2, 2, 2])\n",
    "\n",
    "# Rotate and translate the structure\n",
    "angle = 90  # Rotation angle in degrees\n",
    "axis = [0, 0, 1]  # Rotation axis (here, z-axis)\n",
    "rotation_matrix = SymmOp.from_axis_angle_and_translation(axis, angle).rotation_matrix\n",
    "print(f'Original rotation matrix: {rotation_matrix}')\n",
    "translation_vector = [18, 0, 3]  # Translation vector\n",
    "rotation_symmop = SymmOp.from_rotation_and_translation(rotation_matrix, translation_vector)\n",
    "\n",
    "# Apply the rotation and translation to the original structure\n",
    "translated_structure = original_structure.copy()\n",
    "translated_structure.apply_operation(rotation_symmop)\n",
    "\n",
    "# Align the transformed structure back to the original using SameStructureMatcher\n",
    "matcher = SameStructureMatcher(translated_structure, original_structure)\n",
    "\n",
    "# Get the aligned structure\n",
    "aligned_structure = matcher.get_aligned_structure()\n",
    "\n",
    "# Get the symmetry operation used for alignment\n",
    "symmop = matcher.get_symmetry_operation()\n",
    "print(f'Alignment rotation matrix: {symmop.rotation_matrix}')\n",
    "\n",
    "# Calculate the RMSE between the aligned structure and the original\n",
    "rmse = matcher.get_rmse()\n",
    "print(f\"RMSE after alignment: {rmse}\")\n"
   ]
  },
  {
   "cell_type": "code",
   "execution_count": null,
   "metadata": {},
   "outputs": [],
   "source": []
  }
 ],
 "metadata": {
  "kernelspec": {
   "display_name": "chemenv",
   "language": "python",
   "name": "python3"
  },
  "language_info": {
   "codemirror_mode": {
    "name": "ipython",
    "version": 3
   },
   "file_extension": ".py",
   "mimetype": "text/x-python",
   "name": "python",
   "nbconvert_exporter": "python",
   "pygments_lexer": "ipython3",
   "version": "3.11.7"
  }
 },
 "nbformat": 4,
 "nbformat_minor": 2
}
