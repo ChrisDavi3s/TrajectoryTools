{
 "cells": [
  {
   "cell_type": "code",
   "execution_count": 1,
   "metadata": {},
   "outputs": [
    {
     "name": "stdout",
     "output_type": "stream",
     "text": [
      "Original rotation matrix: [[ 6.123234e-17 -1.000000e+00  0.000000e+00]\n",
      " [ 1.000000e+00  6.123234e-17  0.000000e+00]\n",
      " [ 0.000000e+00  0.000000e+00  1.000000e+00]]\n",
      "Alignment rotation matrix: [[ 0.00000000e+00  1.00000000e+00  4.53152255e-18]\n",
      " [-1.00000000e+00  0.00000000e+00 -4.53152255e-18]\n",
      " [-4.53152255e-18 -4.53152255e-18  1.00000000e+00]]\n",
      "Scale: 0.7142857142857142, compared to transform scale of 0.7142857142857143\n",
      "RMSE after alignment: 4.275472540449378e-15\n"
     ]
    }
   ],
   "source": [
    "from networkx import scale_free_graph\n",
    "from pymatgen.core.operations import SymmOp\n",
    "from pymatgen.core.structure import Lattice, Structure\n",
    "from sympy import true\n",
    "from trajectory_tools.transforms import SameStructureMatcher\n",
    "\n",
    "# Create a simple cubic structure\n",
    "lattice = Lattice.cubic(3.5)\n",
    "species = [\"C\"]\n",
    "coords = [[0, 0, 0]]\n",
    "original_structure = Structure(lattice, species, coords)\n",
    "original_scale = 1.4\n",
    "\n",
    "# Expand the structure into a supercell\n",
    "original_structure.make_supercell([2, 2, 2])\n",
    "\n",
    "# Rotate and translate the structure\n",
    "angle = 90  # Rotation angle in degrees\n",
    "axis = [0, 0, 1]  # Rotation axis (here, z-axis)\n",
    "rotation_matrix = SymmOp.from_axis_angle_and_translation(axis, angle).rotation_matrix\n",
    "print(f'Original rotation matrix: {rotation_matrix}')\n",
    "translation_vector = [50, 0, 0]  # Translation vector\n",
    "rotation_symmop = SymmOp.from_rotation_and_translation(rotation_matrix, translation_vector)\n",
    "\n",
    "# Apply the rotation and translation to the original structure\n",
    "translated_structure = original_structure.copy()\n",
    "translated_structure.apply_operation(rotation_symmop)\n",
    "\n",
    "new_volume = translated_structure.lattice.volume * original_scale\n",
    "translated_structure.scale_lattice(new_volume)\n",
    "\n",
    "# Align the transformed structure back to the original using SameStructureMatcher\n",
    "matcher = SameStructureMatcher(translated_structure, original_structure, scale = True)\n",
    "\n",
    "# Get the aligned structure\n",
    "aligned_structure = matcher.get_aligned_structure()\n",
    "\n",
    "# Get the symmetry operation used for alignment\n",
    "symmop = matcher.get_symmetry_operation()\n",
    "print(f'Alignment rotation matrix: {symmop.rotation_matrix}')\n",
    "\n",
    "scale = matcher.get_volume_scale_factor()\n",
    "print(f'Scale: {scale}, compared to transform scale of {1/original_scale}')\n",
    "\n",
    "# Calculate the RMSE between the aligned structure and the original\n",
    "rmse = matcher.get_rmse()\n",
    "print(f\"RMSE after alignment: {rmse}\")\n"
   ]
  }
 ],
 "metadata": {
  "kernelspec": {
   "display_name": "chemenv",
   "language": "python",
   "name": "python3"
  },
  "language_info": {
   "codemirror_mode": {
    "name": "ipython",
    "version": 3
   },
   "file_extension": ".py",
   "mimetype": "text/x-python",
   "name": "python",
   "nbconvert_exporter": "python",
   "pygments_lexer": "ipython3",
   "version": "3.11.7"
  }
 },
 "nbformat": 4,
 "nbformat_minor": 2
}
