{
 "cells": [
  {
   "cell_type": "code",
   "execution_count": 4,
   "metadata": {},
   "outputs": [
    {
     "name": "stdout",
     "output_type": "stream",
     "text": [
      "Loading slice None from 4 files\n",
      "4\n"
     ]
    }
   ],
   "source": [
    "from trajectory_tools.loaders import LammpsDumpDirectoryLoader\n",
    "from trajectory_tools.transforms import AverageTrajectoryCreator\n",
    "from trajectory_tools.writers import XYZStructureWriter\n",
    "import numpy as np\n",
    "from pymatgen.core import Species\n",
    "\n",
    "# Load the trajectory\n",
    "loader = LammpsDumpDirectoryLoader(\"../dat_directory\", None)\n",
    "print(loader.get_total_steps())\n",
    "\n",
    "structures = [s for s in loader]\n"
   ]
  },
  {
   "cell_type": "code",
   "execution_count": null,
   "metadata": {},
   "outputs": [],
   "source": [
    "#create the writer\n",
    "from trajectory_tools.writers.structure_writer import StructureWriter\n",
    "\n",
    "\n",
    "writer : StructureWriter = XYZStructureWriter(path=\"test.xyz\")\n",
    "\n",
    "average_creator = AverageTrajectoryCreator(structures, \n",
    "                                           species_to_average=None,\n",
    "                                           trajectory_writer=writer,\n",
    "                                        average_window=2,\n",
    "                                           )\n"
   ]
  }
 ],
 "metadata": {
  "kernelspec": {
   "display_name": "chemenv",
   "language": "python",
   "name": "python3"
  },
  "language_info": {
   "codemirror_mode": {
    "name": "ipython",
    "version": 3
   },
   "file_extension": ".py",
   "mimetype": "text/x-python",
   "name": "python",
   "nbconvert_exporter": "python",
   "pygments_lexer": "ipython3",
   "version": "3.11.7"
  }
 },
 "nbformat": 4,
 "nbformat_minor": 2
}
