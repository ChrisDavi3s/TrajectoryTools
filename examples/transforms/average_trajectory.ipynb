{
 "cells": [
  {
   "cell_type": "code",
   "execution_count": 1,
   "metadata": {},
   "outputs": [
    {
     "name": "stdout",
     "output_type": "stream",
     "text": [
      "Loading slice None from 4 files\n",
      "4\n"
     ]
    }
   ],
   "source": [
    "from trajectory_tools.loaders import LammpsDumpDirectoryLoader\n",
    "from trajectory_tools.writers import XYZStructureWriter\n",
    "import numpy as np\n",
    "from pymatgen.core import Species\n",
    "\n",
    "# Load the trajectory\n",
    "loader = LammpsDumpDirectoryLoader(\"../dat_directory\", None)\n",
    "print(loader.get_total_steps())\n",
    "\n",
    "structures = [s for s in loader]\n"
   ]
  },
  {
   "cell_type": "code",
   "execution_count": 2,
   "metadata": {},
   "outputs": [],
   "source": [
    "#create the writer\n",
    "from trajectory_tools.writers.structure_writer import StructureWriter\n",
    "from trajectory_tools.transforms import AverageTrajectoryCreator\n",
    "\n",
    "writer : StructureWriter = XYZStructureWriter(path=\"test.xyz\")\n",
    "\n",
    "average_creator = AverageTrajectoryCreator(structures, \n",
    "                                           species_to_average={'Li':None},\n",
    "                                           trajectory_writer=writer,\n",
    "                                           average_window=2,\n",
    "                                           )\n"
   ]
  },
  {
   "cell_type": "code",
   "execution_count": null,
   "metadata": {},
   "outputs": [
    {
     "name": "stdout",
     "output_type": "stream",
     "text": [
      "[[2.98266394e+00 5.32340187e+01 3.23840147e-02]\n",
      " [7.61510489e-02 2.94611936e+00 5.32292270e+01]\n",
      " [1.55787782e+00 1.51728693e+00 1.45544225e+00]\n",
      " ...\n",
      " [4.27973569e+01 4.28778572e+01 4.87472449e+01]\n",
      " [4.28381927e+01 4.87840877e+01 4.87480436e+01]\n",
      " [4.87438908e+01 4.88012313e+01 4.89155396e+01]]\n"
     ]
    }
   ],
   "source": [
    "print(structures[0].cart_coords)"
   ]
  },
  {
   "cell_type": "code",
   "execution_count": 4,
   "metadata": {},
   "outputs": [
    {
     "name": "stdout",
     "output_type": "stream",
     "text": [
      "Processing [------------------------------] 0/4 (0.00%)"
     ]
    },
    {
     "ename": "AttributeError",
     "evalue": "'NoneType' object has no attribute 'items'",
     "output_type": "error",
     "traceback": [
      "\u001b[0;31m---------------------------------------------------------------------------\u001b[0m",
      "\u001b[0;31mAttributeError\u001b[0m                            Traceback (most recent call last)",
      "Cell \u001b[0;32mIn[4], line 1\u001b[0m\n\u001b[0;32m----> 1\u001b[0m averaged_structures \u001b[38;5;241m=\u001b[39m \u001b[43maverage_creator\u001b[49m\u001b[38;5;241;43m.\u001b[39;49m\u001b[43mprocess_trajectory\u001b[49m\u001b[43m(\u001b[49m\u001b[43m)\u001b[49m\n",
      "File \u001b[0;32m~/Library/CloudStorage/OneDrive-Nexus365/TrajectoryTools/trajectory_tools/transforms/average_trajectory.py:190\u001b[0m, in \u001b[0;36mAverageTrajectoryCreator.process_trajectory\u001b[0;34m(self)\u001b[0m\n\u001b[1;32m    187\u001b[0m \u001b[38;5;28mself\u001b[39m\u001b[38;5;241m.\u001b[39mupdate_position_matrix(step)\n\u001b[1;32m    189\u001b[0m \u001b[38;5;66;03m# create the average coords for this step for every species\u001b[39;00m\n\u001b[0;32m--> 190\u001b[0m average_structure \u001b[38;5;241m=\u001b[39m \u001b[38;5;28;43mself\u001b[39;49m\u001b[38;5;241;43m.\u001b[39;49m\u001b[43mgenerate_average_structure\u001b[49m\u001b[43m(\u001b[49m\u001b[43mstep\u001b[49m\u001b[43m)\u001b[49m\n\u001b[1;32m    192\u001b[0m \u001b[38;5;28;01mif\u001b[39;00m \u001b[38;5;28mself\u001b[39m\u001b[38;5;241m.\u001b[39mtrajectory_writer \u001b[38;5;129;01mis\u001b[39;00m \u001b[38;5;129;01mnot\u001b[39;00m \u001b[38;5;28;01mNone\u001b[39;00m:\n\u001b[1;32m    193\u001b[0m     \u001b[38;5;28mself\u001b[39m\u001b[38;5;241m.\u001b[39mtrajectory_writer\u001b[38;5;241m.\u001b[39mwrite_structure(average_structure, file_name\u001b[38;5;241m=\u001b[39m\u001b[38;5;28;01mNone\u001b[39;00m)\n",
      "File \u001b[0;32m~/Library/CloudStorage/OneDrive-Nexus365/TrajectoryTools/trajectory_tools/transforms/average_trajectory.py:109\u001b[0m, in \u001b[0;36mAverageTrajectoryCreator.generate_average_structure\u001b[0;34m(self, current_step)\u001b[0m\n\u001b[1;32m    106\u001b[0m coords \u001b[38;5;241m=\u001b[39m np\u001b[38;5;241m.\u001b[39mzeros((\u001b[38;5;28mself\u001b[39m\u001b[38;5;241m.\u001b[39mtotal_number_of_sites, \u001b[38;5;241m3\u001b[39m))\n\u001b[1;32m    108\u001b[0m \u001b[38;5;66;03m# Iterate over each species and their respective block size\u001b[39;00m\n\u001b[0;32m--> 109\u001b[0m \u001b[38;5;28;01mfor\u001b[39;00m species, block_size \u001b[38;5;129;01min\u001b[39;00m \u001b[38;5;28;43mself\u001b[39;49m\u001b[38;5;241;43m.\u001b[39;49m\u001b[43mspecies_to_average\u001b[49m\u001b[38;5;241;43m.\u001b[39;49m\u001b[43mitems\u001b[49m():\n\u001b[1;32m    110\u001b[0m     species_indices \u001b[38;5;241m=\u001b[39m \u001b[38;5;28mself\u001b[39m\u001b[38;5;241m.\u001b[39mindeces_to_average[species]\n\u001b[1;32m    111\u001b[0m     half_window \u001b[38;5;241m=\u001b[39m block_size \u001b[38;5;241m/\u001b[39m\u001b[38;5;241m/\u001b[39m \u001b[38;5;241m2\u001b[39m\n",
      "\u001b[0;31mAttributeError\u001b[0m: 'NoneType' object has no attribute 'items'"
     ]
    }
   ],
   "source": [
    "averaged_structures = average_creator.process_trajectory()"
   ]
  }
 ],
 "metadata": {
  "kernelspec": {
   "display_name": "chemenv",
   "language": "python",
   "name": "python3"
  },
  "language_info": {
   "codemirror_mode": {
    "name": "ipython",
    "version": 3
   },
   "file_extension": ".py",
   "mimetype": "text/x-python",
   "name": "python",
   "nbconvert_exporter": "python",
   "pygments_lexer": "ipython3",
   "version": "3.11.7"
  }
 },
 "nbformat": 4,
 "nbformat_minor": 2
}
