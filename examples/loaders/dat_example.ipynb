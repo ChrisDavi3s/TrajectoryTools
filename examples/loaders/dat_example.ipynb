{
 "cells": [
  {
   "cell_type": "markdown",
   "metadata": {},
   "source": [
    "# Import the requried libraries\n",
    "\n"
   ]
  },
  {
   "cell_type": "code",
   "execution_count": null,
   "metadata": {},
   "outputs": [
    {
     "name": "stdout",
     "output_type": "stream",
     "text": [
      "Loading slice None from 4 files\n",
      "4\n",
      "4\n",
      "H6804 He2916 Li486\n"
     ]
    }
   ],
   "source": [
    "from trajectory_tools.loaders import LammpsDumpDirectoryLoader\n",
    "\n",
    "\n",
    "loader = LammpsDumpDirectoryLoader(\"dat_directory\", None)\n",
    "\n",
    "print(loader.get_total_steps())\n",
    "\n",
    "structures = [s for s in loader]\n",
    "\n",
    "print(len(structures))\n",
    "\n",
    "print(structures[0].composition)\n",
    "    "
   ]
  },
  {
   "cell_type": "code",
   "execution_count": null,
   "metadata": {},
   "outputs": [],
   "source": []
  }
 ],
 "metadata": {
  "kernelspec": {
   "display_name": "chemenv",
   "language": "python",
   "name": "python3"
  },
  "language_info": {
   "codemirror_mode": {
    "name": "ipython",
    "version": 3
   },
   "file_extension": ".py",
   "mimetype": "text/x-python",
   "name": "python",
   "nbconvert_exporter": "python",
   "pygments_lexer": "ipython3",
   "version": "3.11.7"
  }
 },
 "nbformat": 4,
 "nbformat_minor": 2
}
