{
 "cells": [
  {
   "cell_type": "markdown",
   "metadata": {},
   "source": [
    "# Import the requried libraries\n",
    "\n"
   ]
  },
  {
   "cell_type": "code",
   "execution_count": 51,
   "metadata": {},
   "outputs": [
    {
     "name": "stdout",
     "output_type": "stream",
     "text": [
      "Loading slice None from 4 files\n",
      "4\n",
      "4\n",
      "H6804 He2916 Li486\n",
      "(10206, 3)\n"
     ]
    }
   ],
   "source": [
    "from trajectory_tools.loaders import LammpsDumpDirectoryLoader\n",
    "import numpy as np\n",
    "from pymatgen.core import Species\n",
    "\n",
    "loader = LammpsDumpDirectoryLoader(\"../dat_directory\", None)\n",
    "\n",
    "print(loader.get_total_steps())\n",
    "\n",
    "structures = [s for s in loader]\n",
    "\n",
    "print(len(structures))\n",
    "\n",
    "print(structures[0].composition)\n",
    "\n"
   ]
  },
  {
   "cell_type": "code",
   "execution_count": 50,
   "metadata": {},
   "outputs": [
    {
     "name": "stdout",
     "output_type": "stream",
     "text": [
      "0.24\n"
     ]
    }
   ],
   "source": [
    "\n",
    "#         #from iterable load first structure and get number of sites\n",
    "# step = 0\n",
    "# position_matrix = None\n",
    "# for structure in structures:\n",
    "#     if step == 0:\n",
    "#         position_matrix = structure.cart_coords.reshape(-1, 1, 3)\n",
    "#     if step > 0:\n",
    "#         position_matrix = np.hstack((position_matrix, structure.cart_coords.reshape(-1, 1, 3)))\n",
    "#     step += 1\n",
    "\n",
    "# print(position_matrix.shape)\n",
    "# #get size in mb\n",
    "# print(position_matrix.nbytes / 1e6)\n",
    "\n",
    "\n",
    "\n",
    "# import numpy as np\n",
    "# import time\n",
    "\n",
    "# # Mock structure data\n",
    "# class MockStructure:\n",
    "#     def __init__(self, size):\n",
    "#         self.cart_coords = np.random.rand(size, 3)\n",
    "\n",
    "# # Create some mock structures for testing\n",
    "# structures = [MockStructure(10000) for _ in range(1000)]  # Adjust the number and size of structures as needed\n",
    "\n",
    "# def benchmark_hstack(structures):\n",
    "#     start_time = time.time()\n",
    "#     step = 0\n",
    "#     position_matrix = None\n",
    "#     for structure in structures:\n",
    "#         if step == 0:\n",
    "#             position_matrix = structure.cart_coords.reshape(-1, 1, 3)\n",
    "#         else:\n",
    "#             position_matrix = np.hstack((position_matrix, structure.cart_coords.reshape(-1, 1, 3)))\n",
    "#         step += 1\n",
    "\n",
    "#     end_time = time.time()\n",
    "#     print(\"HStack Approach:\")\n",
    "#     print(\"Shape:\", position_matrix.shape)\n",
    "#     print(\"Size (MB):\", position_matrix.nbytes / 1e6)\n",
    "#     print(\"Time (seconds):\", end_time - start_time)\n",
    "\n",
    "# def benchmark_list(structures):\n",
    "#     start_time = time.time()\n",
    "#     position_matrix_list = []\n",
    "#     for structure in structures:\n",
    "#         position_matrix_list.append(structure.cart_coords.reshape(-1, 1, 3))\n",
    "    \n",
    "#     position_matrix = np.array(position_matrix_list)\n",
    "#     end_time = time.time()\n",
    "#     print(\"List Approach:\")\n",
    "#     print(\"Shape:\", position_matrix.shape)\n",
    "#     print(\"Size (MB):\", position_matrix.nbytes / 1e6)\n",
    "#     print(\"Time (seconds):\", end_time - start_time)\n",
    "\n",
    "# # Run benchmarks\n",
    "# benchmark_hstack(structures)\n",
    "# benchmark_list(structures)\n"
   ]
  },
  {
   "cell_type": "code",
   "execution_count": 1,
   "metadata": {},
   "outputs": [
    {
     "name": "stdout",
     "output_type": "stream",
     "text": [
      "Processing [##################------------] 126/200 (63.00%)"
     ]
    },
    {
     "ename": "KeyboardInterrupt",
     "evalue": "",
     "output_type": "error",
     "traceback": [
      "\u001b[0;31m---------------------------------------------------------------------------\u001b[0m",
      "\u001b[0;31mKeyboardInterrupt\u001b[0m                         Traceback (most recent call last)",
      "Cell \u001b[0;32mIn[1], line 16\u001b[0m\n\u001b[1;32m     14\u001b[0m \u001b[38;5;66;03m# Example usage\u001b[39;00m\n\u001b[1;32m     15\u001b[0m total_steps \u001b[38;5;241m=\u001b[39m \u001b[38;5;241m200\u001b[39m  \u001b[38;5;66;03m# You can change this to any number of steps you want\u001b[39;00m\n\u001b[0;32m---> 16\u001b[0m \u001b[43mprocess_simulation\u001b[49m\u001b[43m(\u001b[49m\u001b[43mtotal_steps\u001b[49m\u001b[43m)\u001b[49m\n",
      "Cell \u001b[0;32mIn[1], line 12\u001b[0m, in \u001b[0;36mprocess_simulation\u001b[0;34m(total_steps)\u001b[0m\n\u001b[1;32m     10\u001b[0m \u001b[38;5;28mprint\u001b[39m(\u001b[38;5;124mf\u001b[39m\u001b[38;5;124m'\u001b[39m\u001b[38;5;130;01m\\r\u001b[39;00m\u001b[38;5;124mProcessing [\u001b[39m\u001b[38;5;132;01m{\u001b[39;00mbar\u001b[38;5;132;01m}\u001b[39;00m\u001b[38;5;124m] \u001b[39m\u001b[38;5;132;01m{\u001b[39;00mstep\u001b[38;5;132;01m}\u001b[39;00m\u001b[38;5;124m/\u001b[39m\u001b[38;5;132;01m{\u001b[39;00mtotal_steps\u001b[38;5;132;01m}\u001b[39;00m\u001b[38;5;124m (\u001b[39m\u001b[38;5;132;01m{\u001b[39;00mprogress\u001b[38;5;132;01m:\u001b[39;00m\u001b[38;5;124m.2f\u001b[39m\u001b[38;5;132;01m}\u001b[39;00m\u001b[38;5;124m%)\u001b[39m\u001b[38;5;124m'\u001b[39m, end\u001b[38;5;241m=\u001b[39m\u001b[38;5;124m'\u001b[39m\u001b[38;5;124m'\u001b[39m)\n\u001b[1;32m     11\u001b[0m sys\u001b[38;5;241m.\u001b[39mstdout\u001b[38;5;241m.\u001b[39mflush()\n\u001b[0;32m---> 12\u001b[0m time\u001b[38;5;241m.\u001b[39msleep(\u001b[38;5;241m0.1\u001b[39m)\n",
      "\u001b[0;31mKeyboardInterrupt\u001b[0m: "
     ]
    }
   ],
   "source": [
    "import sys\n",
    "import time  # Used for simulating a process with sleep\n",
    "\n",
    "def process_simulation(total_steps):\n",
    "    for step in range(total_steps + 1):\n",
    "        progress = (step / total_steps) * 100\n",
    "        bar_length = 30\n",
    "        filled_length = int(bar_length * step // total_steps)\n",
    "        bar = '#' * filled_length + '-' * (bar_length - filled_length)\n",
    "        print(f'\\rProcessing [{bar}] {step}/{total_steps} ({progress:.2f}%)', end='')\n",
    "        sys.stdout.flush()\n",
    "        time.sleep(0.1)  # Simulate some processing time\n",
    "\n",
    "# Example usage\n",
    "total_steps = 200  # You can change this to any number of steps you want\n",
    "process_simulation(total_steps)\n"
   ]
  }
 ],
 "metadata": {
  "kernelspec": {
   "display_name": "chemenv",
   "language": "python",
   "name": "python3"
  },
  "language_info": {
   "codemirror_mode": {
    "name": "ipython",
    "version": 3
   },
   "file_extension": ".py",
   "mimetype": "text/x-python",
   "name": "python",
   "nbconvert_exporter": "python",
   "pygments_lexer": "ipython3",
   "version": "3.11.7"
  }
 },
 "nbformat": 4,
 "nbformat_minor": 2
}
